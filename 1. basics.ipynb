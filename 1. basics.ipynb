{
 "cells": [
  {
   "cell_type": "code",
   "execution_count": 1,
   "metadata": {},
   "outputs": [],
   "source": [
    "import numpy as np\n",
    "import matplotlib.pyplot as plt\n",
    "import tensorflow as tf"
   ]
  },
  {
   "cell_type": "code",
   "execution_count": 2,
   "metadata": {},
   "outputs": [
    {
     "name": "stdout",
     "output_type": "stream",
     "text": [
      "1.10.0\n"
     ]
    }
   ],
   "source": [
    "print(tf.__version__)"
   ]
  },
  {
   "cell_type": "code",
   "execution_count": 3,
   "metadata": {},
   "outputs": [],
   "source": [
    "# 28x28 images of handwritten digits from 0-9\n",
    "\n",
    "mnist = tf.keras.datasets.mnist\n",
    "\n",
    "(X_train, y_train), (X_test, y_test) = mnist.load_data()"
   ]
  },
  {
   "cell_type": "code",
   "execution_count": 4,
   "metadata": {},
   "outputs": [
    {
     "name": "stdout",
     "output_type": "stream",
     "text": [
      "[[  0   0   0   0   0   0   0   0   0   0   0   0   0   0   0   0   0   0\n",
      "    0   0   0   0   0   0   0   0   0   0]\n",
      " [  0   0   0   0   0   0   0   0   0   0   0   0   0   0   0   0   0   0\n",
      "    0   0   0   0   0   0   0   0   0   0]\n",
      " [  0   0   0   0   0   0   0   0   0   0   0   0   0   0   0   0   0   0\n",
      "    0   0   0   0   0   0   0   0   0   0]\n",
      " [  0   0   0   0   0   0   0   0   0   0   0   0   0   0   0   0   0   0\n",
      "    0   0   0   0   0   0   0   0   0   0]\n",
      " [  0   0   0   0   0   0   0   0   0   0   0   0   0   0   0   0   0   0\n",
      "    0   0   0   0   0   0   0   0   0   0]\n",
      " [  0   0   0   0   0   0   0   0   0   0   0   0   3  18  18  18 126 136\n",
      "  175  26 166 255 247 127   0   0   0   0]\n",
      " [  0   0   0   0   0   0   0   0  30  36  94 154 170 253 253 253 253 253\n",
      "  225 172 253 242 195  64   0   0   0   0]\n",
      " [  0   0   0   0   0   0   0  49 238 253 253 253 253 253 253 253 253 251\n",
      "   93  82  82  56  39   0   0   0   0   0]\n",
      " [  0   0   0   0   0   0   0  18 219 253 253 253 253 253 198 182 247 241\n",
      "    0   0   0   0   0   0   0   0   0   0]\n",
      " [  0   0   0   0   0   0   0   0  80 156 107 253 253 205  11   0  43 154\n",
      "    0   0   0   0   0   0   0   0   0   0]\n",
      " [  0   0   0   0   0   0   0   0   0  14   1 154 253  90   0   0   0   0\n",
      "    0   0   0   0   0   0   0   0   0   0]\n",
      " [  0   0   0   0   0   0   0   0   0   0   0 139 253 190   2   0   0   0\n",
      "    0   0   0   0   0   0   0   0   0   0]\n",
      " [  0   0   0   0   0   0   0   0   0   0   0  11 190 253  70   0   0   0\n",
      "    0   0   0   0   0   0   0   0   0   0]\n",
      " [  0   0   0   0   0   0   0   0   0   0   0   0  35 241 225 160 108   1\n",
      "    0   0   0   0   0   0   0   0   0   0]\n",
      " [  0   0   0   0   0   0   0   0   0   0   0   0   0  81 240 253 253 119\n",
      "   25   0   0   0   0   0   0   0   0   0]\n",
      " [  0   0   0   0   0   0   0   0   0   0   0   0   0   0  45 186 253 253\n",
      "  150  27   0   0   0   0   0   0   0   0]\n",
      " [  0   0   0   0   0   0   0   0   0   0   0   0   0   0   0  16  93 252\n",
      "  253 187   0   0   0   0   0   0   0   0]\n",
      " [  0   0   0   0   0   0   0   0   0   0   0   0   0   0   0   0   0 249\n",
      "  253 249  64   0   0   0   0   0   0   0]\n",
      " [  0   0   0   0   0   0   0   0   0   0   0   0   0   0  46 130 183 253\n",
      "  253 207   2   0   0   0   0   0   0   0]\n",
      " [  0   0   0   0   0   0   0   0   0   0   0   0  39 148 229 253 253 253\n",
      "  250 182   0   0   0   0   0   0   0   0]\n",
      " [  0   0   0   0   0   0   0   0   0   0  24 114 221 253 253 253 253 201\n",
      "   78   0   0   0   0   0   0   0   0   0]\n",
      " [  0   0   0   0   0   0   0   0  23  66 213 253 253 253 253 198  81   2\n",
      "    0   0   0   0   0   0   0   0   0   0]\n",
      " [  0   0   0   0   0   0  18 171 219 253 253 253 253 195  80   9   0   0\n",
      "    0   0   0   0   0   0   0   0   0   0]\n",
      " [  0   0   0   0  55 172 226 253 253 253 253 244 133  11   0   0   0   0\n",
      "    0   0   0   0   0   0   0   0   0   0]\n",
      " [  0   0   0   0 136 253 253 253 212 135 132  16   0   0   0   0   0   0\n",
      "    0   0   0   0   0   0   0   0   0   0]\n",
      " [  0   0   0   0   0   0   0   0   0   0   0   0   0   0   0   0   0   0\n",
      "    0   0   0   0   0   0   0   0   0   0]\n",
      " [  0   0   0   0   0   0   0   0   0   0   0   0   0   0   0   0   0   0\n",
      "    0   0   0   0   0   0   0   0   0   0]\n",
      " [  0   0   0   0   0   0   0   0   0   0   0   0   0   0   0   0   0   0\n",
      "    0   0   0   0   0   0   0   0   0   0]]\n"
     ]
    }
   ],
   "source": [
    "print(X_train[0])"
   ]
  },
  {
   "cell_type": "code",
   "execution_count": 5,
   "metadata": {},
   "outputs": [
    {
     "data": {
      "image/png": "[encoded data removed]",
      "text/plain": [
       "<Figure size 432x288 with 1 Axes>"
      ]
     },
     "metadata": {
      "needs_background": "light"
     },
     "output_type": "display_data"
    }
   ],
   "source": [
    "plt.imshow(X_train[0], cmap=plt.cm.binary)\n",
    "plt.show()"
   ]
  },
  {
   "cell_type": "code",
   "execution_count": 6,
   "metadata": {},
   "outputs": [],
   "source": [
    "model = tf.keras.Sequential()\n",
    "model.add(tf.keras.layers.Flatten())\n",
    "model.add(tf.keras.layers.Dense(units=128, activation=tf.nn.relu))\n",
    "model.add(tf.keras.layers.Dense(units=64, activation=tf.nn.relu))\n",
    "model.add(tf.keras.layers.Dense(units=10, activation=tf.nn.softmax))\n",
    "\n",
    "model.compile(optimizer='adam',\n",
    "              loss='sparse_categorical_crossentropy',\n",
    "              metrics=['accuracy'])"
   ]
  },
  {
   "cell_type": "code",
   "execution_count": 7,
   "metadata": {},
   "outputs": [
    {
     "name": "stdout",
     "output_type": "stream",
     "text": [
      "Train on 48000 samples, validate on 12000 samples\n",
      "Epoch 1/10\n",
      "48000/48000 [==============================] - 4s 79us/step - loss: 13.0300 - acc: 0.1909 - val_loss: 11.8917 - val_acc: 0.2622\n",
      "Epoch 2/10\n",
      "48000/48000 [==============================] - 3s 61us/step - loss: 11.8561 - acc: 0.2641 - val_loss: 11.5597 - val_acc: 0.2827\n",
      "Epoch 3/10\n",
      "48000/48000 [==============================] - 3s 60us/step - loss: 10.8628 - acc: 0.3256 - val_loss: 10.3939 - val_acc: 0.3549\n",
      "Epoch 4/10\n",
      "48000/48000 [==============================] - 3s 60us/step - loss: 10.6628 - acc: 0.3382 - val_loss: 11.7310 - val_acc: 0.2716\n",
      "Epoch 5/10\n",
      "48000/48000 [==============================] - 3s 63us/step - loss: 10.5534 - acc: 0.3450 - val_loss: 10.2901 - val_acc: 0.3612\n",
      "Epoch 6/10\n",
      "48000/48000 [==============================] - 3s 61us/step - loss: 10.4281 - acc: 0.3529 - val_loss: 10.1828 - val_acc: 0.3681\n",
      "Epoch 7/10\n",
      "48000/48000 [==============================] - 3s 62us/step - loss: 10.2095 - acc: 0.3665 - val_loss: 10.1582 - val_acc: 0.3698\n",
      "Epoch 8/10\n",
      "48000/48000 [==============================] - 3s 61us/step - loss: 10.4662 - acc: 0.3505 - val_loss: 10.4374 - val_acc: 0.3524\n",
      "Epoch 9/10\n",
      "48000/48000 [==============================] - 3s 61us/step - loss: 10.3091 - acc: 0.3604 - val_loss: 10.1442 - val_acc: 0.3705\n",
      "Epoch 10/10\n",
      "48000/48000 [==============================] - 3s 62us/step - loss: 10.3322 - acc: 0.3589 - val_loss: 10.5237 - val_acc: 0.3468\n"
     ]
    },
    {
     "data": {
      "text/plain": [
       "<tensorflow.python.keras.callbacks.History at 0x7f56509a8da0>"
      ]
     },
     "execution_count": 7,
     "metadata": {},
     "output_type": "execute_result"
    }
   ],
   "source": [
    "# without normalizing the data\n",
    "model.fit(X_train, y_train, epochs=10, validation_split=0.2)"
   ]
  },
  {
   "cell_type": "code",
   "execution_count": 8,
   "metadata": {},
   "outputs": [
    {
     "name": "stdout",
     "output_type": "stream",
     "text": [
      "10000/10000 [==============================] - 0s 20us/step\n",
      "10.463097999572755 0.3507\n"
     ]
    }
   ],
   "source": [
    "val_loss, val_acc = model.evaluate(X_test, y_test)\n",
    "print(val_loss, val_acc)"
   ]
  },
  {
   "cell_type": "code",
   "execution_count": 9,
   "metadata": {},
   "outputs": [],
   "source": [
    "# normalizing the data\n",
    "\n",
    "X_train_norm = tf.keras.utils.normalize(X_train, axis=1)\n",
    "X_test_norm = tf.keras.utils.normalize(X_test, axis=1)"
   ]
  },
  {
   "cell_type": "code",
   "execution_count": 10,
   "metadata": {},
   "outputs": [
    {
     "name": "stdout",
     "output_type": "stream",
     "text": [
      "Train on 48000 samples, validate on 12000 samples\n",
      "Epoch 1/10\n",
      "48000/48000 [==============================] - 3s 66us/step - loss: 0.3485 - acc: 0.8984 - val_loss: 0.1843 - val_acc: 0.9422\n",
      "Epoch 2/10\n",
      "48000/48000 [==============================] - 3s 63us/step - loss: 0.1571 - acc: 0.9523 - val_loss: 0.1447 - val_acc: 0.9562\n",
      "Epoch 3/10\n",
      "48000/48000 [==============================] - 3s 62us/step - loss: 0.1170 - acc: 0.9640 - val_loss: 0.1247 - val_acc: 0.9610\n",
      "Epoch 4/10\n",
      "48000/48000 [==============================] - 3s 62us/step - loss: 0.0912 - acc: 0.9729 - val_loss: 0.1219 - val_acc: 0.9623\n",
      "Epoch 5/10\n",
      "48000/48000 [==============================] - 3s 65us/step - loss: 0.0731 - acc: 0.9775 - val_loss: 0.1086 - val_acc: 0.9681\n",
      "Epoch 6/10\n",
      "48000/48000 [==============================] - 3s 64us/step - loss: 0.0580 - acc: 0.9825 - val_loss: 0.1140 - val_acc: 0.9668\n",
      "Epoch 7/10\n",
      "48000/48000 [==============================] - 3s 62us/step - loss: 0.0478 - acc: 0.9849 - val_loss: 0.1105 - val_acc: 0.9696\n",
      "Epoch 8/10\n",
      "48000/48000 [==============================] - 3s 64us/step - loss: 0.0379 - acc: 0.9880 - val_loss: 0.1005 - val_acc: 0.9707\n",
      "Epoch 9/10\n",
      "48000/48000 [==============================] - 3s 64us/step - loss: 0.0301 - acc: 0.9908 - val_loss: 0.1182 - val_acc: 0.9693\n",
      "Epoch 10/10\n",
      "48000/48000 [==============================] - 3s 64us/step - loss: 0.0240 - acc: 0.9919 - val_loss: 0.1173 - val_acc: 0.9710\n"
     ]
    },
    {
     "data": {
      "text/plain": [
       "<tensorflow.python.keras.callbacks.History at 0x7f56549a20f0>"
      ]
     },
     "execution_count": 10,
     "metadata": {},
     "output_type": "execute_result"
    }
   ],
   "source": [
    "# without normalizing the data\n",
    "model.fit(X_train_norm, y_train, epochs=10, validation_split=0.2)"
   ]
  },
  {
   "cell_type": "code",
   "execution_count": 11,
   "metadata": {},
   "outputs": [
    {
     "name": "stdout",
     "output_type": "stream",
     "text": [
      "10000/10000 [==============================] - 0s 20us/step\n",
      "0.11238913917505415 0.9713\n"
     ]
    }
   ],
   "source": [
    "val_loss, val_acc = model.evaluate(X_test_norm, y_test)\n",
    "print(val_loss, val_acc)"
   ]
  },
  {
   "cell_type": "code",
   "execution_count": 12,
   "metadata": {},
   "outputs": [],
   "source": [
    "# saving a model\n",
    "model.save('number_reader.model')"
   ]
  },
  {
   "cell_type": "code",
   "execution_count": 13,
   "metadata": {},
   "outputs": [],
   "source": [
    "# loading a model\n",
    "loaded_model = tf.keras.models.load_model('number_reader.model')"
   ]
  },
  {
   "cell_type": "code",
   "execution_count": 14,
   "metadata": {},
   "outputs": [],
   "source": [
    "# predictions takes as input a list\n",
    "predictions = loaded_model.predict([X_test_norm])"
   ]
  },
  {
   "cell_type": "code",
   "execution_count": 15,
   "metadata": {},
   "outputs": [
    {
     "name": "stdout",
     "output_type": "stream",
     "text": [
      "[[6.1543541e-11 7.9574770e-11 3.3998059e-08 1.9680508e-08 1.1096164e-17\n",
      "  9.0983942e-14 3.0158165e-22 1.0000000e+00 1.6593889e-10 1.5612537e-09]\n",
      " [7.3097615e-13 6.6272431e-04 9.9929595e-01 1.0573627e-08 1.1105302e-10\n",
      "  3.9981762e-05 1.2819654e-06 1.1348364e-07 1.0741484e-09 7.3414229e-13]\n",
      " [4.0482564e-06 9.9980885e-01 1.5407553e-05 2.5513544e-05 1.9896031e-06\n",
      "  2.2722240e-06 2.6634130e-05 4.4601053e-05 7.0104034e-05 7.3695958e-07]\n",
      " [9.9997973e-01 1.1274305e-10 2.3163532e-06 4.9258279e-08 1.4094569e-07\n",
      "  8.3066652e-08 5.2885093e-06 8.2830400e-09 4.3387303e-07 1.1908058e-05]\n",
      " [2.5942349e-08 3.1450937e-09 1.7752656e-07 1.8867925e-09 9.9904197e-01\n",
      "  1.0508535e-09 1.3771013e-09 1.3454223e-06 4.0315848e-07 9.5609162e-04]]\n"
     ]
    }
   ],
   "source": [
    "print(predictions[:5])"
   ]
  },
  {
   "cell_type": "code",
   "execution_count": 18,
   "metadata": {},
   "outputs": [
    {
     "data": {
      "text/plain": [
       "7"
      ]
     },
     "execution_count": 18,
     "metadata": {},
     "output_type": "execute_result"
    }
   ],
   "source": [
    "np.argmax(predictions[0])"
   ]
  },
  {
   "cell_type": "code",
   "execution_count": 19,
   "metadata": {},
   "outputs": [
    {
     "data": {
      "image/png": "[encoded data removed]",
      "text/plain": [
       "<Figure size 432x288 with 1 Axes>"
      ]
     },
     "metadata": {
      "needs_background": "light"
     },
     "output_type": "display_data"
    }
   ],
   "source": [
    "plt.imshow(X_test_norm[0])\n",
    "plt.show()"
   ]
  }
 ],
 "metadata": {
  "kernelspec": {
   "display_name": "Python 3",
   "language": "python",
   "name": "python3"
  },
  "language_info": {
   "codemirror_mode": {
    "name": "ipython",
    "version": 3
   },
   "file_extension": ".py",
   "mimetype": "text/x-python",
   "name": "python",
   "nbconvert_exporter": "python",
   "pygments_lexer": "ipython3",
   "version": "3.5.0"
  }
 },
 "nbformat": 4,
 "nbformat_minor": 2
}
