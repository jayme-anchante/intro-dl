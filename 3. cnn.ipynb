{
 "cells": [
  {
   "cell_type": "code",
   "execution_count": 1,
   "metadata": {},
   "outputs": [],
   "source": [
    "import os\n",
    "import pickle\n",
    "\n",
    "import tensorflow as tf\n",
    "from tensorflow.keras.models import Sequential\n",
    "from tensorflow.keras.layers import Dense, Dropout, Activation, Flatten, Conv2D, MaxPooling2D"
   ]
  },
  {
   "cell_type": "code",
   "execution_count": 2,
   "metadata": {},
   "outputs": [],
   "source": [
    "# define variables\n",
    "home = os.getenv('HOME')\n",
    "datadir = os.path.join(home, 'Pictures', 'kagglecatsanddogs_3367a', 'PetImages')"
   ]
  },
  {
   "cell_type": "code",
   "execution_count": 3,
   "metadata": {},
   "outputs": [],
   "source": [
    "# load data\n",
    "with open(os.path.join(datadir, 'X.pkl'), 'rb') as file:\n",
    "    X = pickle.load(file)\n",
    "    \n",
    "with open(os.path.join(datadir, 'y.pkl'), 'rb') as file:\n",
    "    y = pickle.load(file)"
   ]
  },
  {
   "cell_type": "code",
   "execution_count": 4,
   "metadata": {},
   "outputs": [],
   "source": [
    "# normalize the data\n",
    "X = X/255"
   ]
  },
  {
   "cell_type": "code",
   "execution_count": 5,
   "metadata": {},
   "outputs": [
    {
     "data": {
      "text/plain": [
       "(24946, 50, 50, 1)"
      ]
     },
     "execution_count": 5,
     "metadata": {},
     "output_type": "execute_result"
    }
   ],
   "source": [
    "X.shape"
   ]
  },
  {
   "cell_type": "code",
   "execution_count": 6,
   "metadata": {},
   "outputs": [],
   "source": [
    "# declaring a model\n",
    "model = Sequential()\n",
    "\n",
    "# convolution layer with 64 neuros\n",
    "model.add(Conv2D(filters=(64), kernel_size=(3, 3), input_shape=X.shape[1:]))\n",
    "model.add(Activation('relu'))\n",
    "model.add(MaxPooling2D(pool_size=(2, 2)))\n",
    "\n",
    "# convolution layer with 64 neurons\n",
    "model.add(Conv2D(filters=(64), kernel_size=(3, 3)))\n",
    "model.add(Activation('relu'))\n",
    "model.add(MaxPooling2D(pool_size=(2, 2)))\n",
    "\n",
    "# dense layer with 64 neurons\n",
    "model.add(Flatten())\n",
    "model.add(Dense(units=64))\n",
    "model.add(Activation('relu'))\n",
    "\n",
    "# output layer with sigmoid activation\n",
    "model.add(Dense(units=1, activation='sigmoid'))"
   ]
  },
  {
   "cell_type": "code",
   "execution_count": 7,
   "metadata": {},
   "outputs": [],
   "source": [
    "# compiling the model\n",
    "model.compile(optimizer='adam', loss='binary_crossentropy', metrics=['accuracy'])"
   ]
  },
  {
   "cell_type": "code",
   "execution_count": 8,
   "metadata": {},
   "outputs": [
    {
     "name": "stdout",
     "output_type": "stream",
     "text": [
      "Train on 19956 samples, validate on 4990 samples\n",
      "Epoch 1/20\n",
      "19956/19956 [==============================] - 5s 228us/step - loss: 0.6045 - acc: 0.6655 - val_loss: 0.5253 - val_acc: 0.7365\n",
      "Epoch 2/20\n",
      "19956/19956 [==============================] - 3s 149us/step - loss: 0.5063 - acc: 0.7536 - val_loss: 0.5127 - val_acc: 0.7561\n",
      "Epoch 3/20\n",
      "19956/19956 [==============================] - 3s 148us/step - loss: 0.4539 - acc: 0.7855 - val_loss: 0.4817 - val_acc: 0.7671\n",
      "Epoch 4/20\n",
      "19956/19956 [==============================] - 3s 147us/step - loss: 0.4098 - acc: 0.8138 - val_loss: 0.5077 - val_acc: 0.7649\n",
      "Epoch 5/20\n",
      "19956/19956 [==============================] - 3s 148us/step - loss: 0.3737 - acc: 0.8335 - val_loss: 0.4636 - val_acc: 0.7826\n",
      "Epoch 6/20\n",
      "19956/19956 [==============================] - 3s 148us/step - loss: 0.3326 - acc: 0.8521 - val_loss: 0.4622 - val_acc: 0.7928\n",
      "Epoch 7/20\n",
      "19956/19956 [==============================] - 3s 149us/step - loss: 0.2835 - acc: 0.8771 - val_loss: 0.5056 - val_acc: 0.7764\n",
      "Epoch 8/20\n",
      "19956/19956 [==============================] - 3s 147us/step - loss: 0.2362 - acc: 0.9027 - val_loss: 0.5566 - val_acc: 0.7749\n",
      "Epoch 9/20\n",
      "19956/19956 [==============================] - 3s 150us/step - loss: 0.1833 - acc: 0.9275 - val_loss: 0.5821 - val_acc: 0.7840\n",
      "Epoch 10/20\n",
      "19956/19956 [==============================] - 3s 155us/step - loss: 0.1357 - acc: 0.9494 - val_loss: 0.6235 - val_acc: 0.7964\n",
      "Epoch 11/20\n",
      "19956/19956 [==============================] - 3s 149us/step - loss: 0.0979 - acc: 0.9645 - val_loss: 0.6741 - val_acc: 0.7844\n",
      "Epoch 12/20\n",
      "19956/19956 [==============================] - 3s 152us/step - loss: 0.0699 - acc: 0.9763 - val_loss: 0.8522 - val_acc: 0.7828\n",
      "Epoch 13/20\n",
      "19956/19956 [==============================] - 3s 151us/step - loss: 0.0549 - acc: 0.9820 - val_loss: 0.9798 - val_acc: 0.7693\n",
      "Epoch 14/20\n",
      "19956/19956 [==============================] - 3s 153us/step - loss: 0.0412 - acc: 0.9874 - val_loss: 0.9696 - val_acc: 0.7834\n",
      "Epoch 15/20\n",
      "19956/19956 [==============================] - 3s 162us/step - loss: 0.0312 - acc: 0.9907 - val_loss: 1.0946 - val_acc: 0.7774\n",
      "Epoch 16/20\n",
      "19956/19956 [==============================] - 3s 153us/step - loss: 0.0333 - acc: 0.9900 - val_loss: 1.0929 - val_acc: 0.7739\n",
      "Epoch 17/20\n",
      "19956/19956 [==============================] - 3s 155us/step - loss: 0.0325 - acc: 0.9900 - val_loss: 1.0992 - val_acc: 0.7703\n",
      "Epoch 18/20\n",
      "19956/19956 [==============================] - 3s 152us/step - loss: 0.0221 - acc: 0.9931 - val_loss: 1.2506 - val_acc: 0.7916\n",
      "Epoch 19/20\n",
      "19956/19956 [==============================] - 3s 149us/step - loss: 0.0291 - acc: 0.9907 - val_loss: 1.2339 - val_acc: 0.7784\n",
      "Epoch 20/20\n",
      "19956/19956 [==============================] - 3s 149us/step - loss: 0.0248 - acc: 0.9914 - val_loss: 1.2420 - val_acc: 0.7828\n",
      "CPU times: user 1min 9s, sys: 8.7 s, total: 1min 18s\n",
      "Wall time: 1min 2s\n"
     ]
    },
    {
     "data": {
      "text/plain": [
       "<tensorflow.python.keras.callbacks.History at 0x7f5fc97050b8>"
      ]
     },
     "execution_count": 8,
     "metadata": {},
     "output_type": "execute_result"
    }
   ],
   "source": [
    "%%time\n",
    "\n",
    "# fitting the model\n",
    "model.fit(x=X, y=y, batch_size=32, epochs=20, validation_split=0.2)"
   ]
  }
 ],
 "metadata": {
  "kernelspec": {
   "display_name": "Python 3",
   "language": "python",
   "name": "python3"
  },
  "language_info": {
   "codemirror_mode": {
    "name": "ipython",
    "version": 3
   },
   "file_extension": ".py",
   "mimetype": "text/x-python",
   "name": "python",
   "nbconvert_exporter": "python",
   "pygments_lexer": "ipython3",
   "version": "3.5.0"
  }
 },
 "nbformat": 4,
 "nbformat_minor": 2
}
