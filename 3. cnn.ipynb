{
 "cells": [
  {
   "cell_type": "code",
   "execution_count": 1,
   "metadata": {},
   "outputs": [],
   "source": [
    "import os\n",
    "import pickle\n",
    "\n",
    "import tensorflow as tf\n",
    "from tensorflow.keras.models import Sequential\n",
    "from tensorflow.keras.layers import Dense, Dropout, Activation, Flatten, Conv2D, MaxPooling2D"
   ]
  },
  {
   "cell_type": "code",
   "execution_count": 3,
   "metadata": {},
   "outputs": [],
   "source": [
    "# define variables\n",
    "home = os.getenv('HOME')\n",
    "datadir = os.path.join(home, 'Pictures', 'kagglecatsanddogs_3367a', 'PetImages')"
   ]
  },
  {
   "cell_type": "code",
   "execution_count": 4,
   "metadata": {},
   "outputs": [],
   "source": [
    "# load data\n",
    "with open(os.path.join(datadir, 'X.pkl'), 'rb') as file:\n",
    "    X = pickle.load(file)\n",
    "    \n",
    "with open(os.path.join(datadir, 'y.pkl'), 'rb') as file:\n",
    "    y = pickle.load(file)"
   ]
  },
  {
   "cell_type": "code",
   "execution_count": 5,
   "metadata": {},
   "outputs": [],
   "source": [
    "# normalize the data\n",
    "X = X/255"
   ]
  },
  {
   "cell_type": "code",
   "execution_count": 6,
   "metadata": {},
   "outputs": [
    {
     "data": {
      "text/plain": [
       "(24946, 50, 50, 1)"
      ]
     },
     "execution_count": 6,
     "metadata": {},
     "output_type": "execute_result"
    }
   ],
   "source": [
    "X.shape"
   ]
  },
  {
   "cell_type": "code",
   "execution_count": 7,
   "metadata": {},
   "outputs": [],
   "source": [
    "# declaring a model\n",
    "model = Sequential()\n",
    "\n",
    "# convolution layer with 64 neuros\n",
    "model.add(Conv2D(filters=(64), kernel_size=(3, 3), input_shape=X.shape[1:]))\n",
    "model.add(Activation('relu'))\n",
    "model.add(MaxPooling2D(pool_size=(2, 2)))\n",
    "\n",
    "# convolution layer with 64 neurons\n",
    "model.add(Conv2D(filters=(64), kernel_size=(3, 3)))\n",
    "model.add(Activation('relu'))\n",
    "model.add(MaxPooling2D(pool_size=(2, 2)))\n",
    "\n",
    "# dense layer with 64 neurons\n",
    "model.add(Flatten())\n",
    "model.add(Dense(units=64))\n",
    "\n",
    "# output layer with sigmoid activation\n",
    "model.add(Dense(units=1, activation='sigmoid'))"
   ]
  },
  {
   "cell_type": "code",
   "execution_count": 8,
   "metadata": {},
   "outputs": [],
   "source": [
    "# compiling the model\n",
    "model.compile(optimizer='adam', loss='binary_crossentropy', metrics=['accuracy'])"
   ]
  },
  {
   "cell_type": "code",
   "execution_count": 10,
   "metadata": {},
   "outputs": [
    {
     "name": "stdout",
     "output_type": "stream",
     "text": [
      "Train on 19956 samples, validate on 4990 samples\n",
      "Epoch 1/20\n",
      "19956/19956 [==============================] - 3s 172us/step - loss: 0.5216 - acc: 0.7462 - val_loss: 0.4881 - val_acc: 0.7631\n",
      "Epoch 2/20\n",
      "19956/19956 [==============================] - 3s 167us/step - loss: 0.4688 - acc: 0.7768 - val_loss: 0.4893 - val_acc: 0.7679\n",
      "Epoch 3/20\n",
      "19956/19956 [==============================] - 3s 170us/step - loss: 0.4387 - acc: 0.7954 - val_loss: 0.4695 - val_acc: 0.7778\n",
      "Epoch 4/20\n",
      "19956/19956 [==============================] - 3s 171us/step - loss: 0.4106 - acc: 0.8127 - val_loss: 0.4754 - val_acc: 0.7709\n",
      "Epoch 5/20\n",
      "19956/19956 [==============================] - 3s 173us/step - loss: 0.3898 - acc: 0.8248 - val_loss: 0.4950 - val_acc: 0.7693\n",
      "Epoch 6/20\n",
      "19956/19956 [==============================] - 4s 180us/step - loss: 0.3645 - acc: 0.8370 - val_loss: 0.4859 - val_acc: 0.7824\n",
      "Epoch 7/20\n",
      "19956/19956 [==============================] - 4s 176us/step - loss: 0.3405 - acc: 0.8508 - val_loss: 0.4723 - val_acc: 0.7934\n",
      "Epoch 8/20\n",
      "19956/19956 [==============================] - 4s 176us/step - loss: 0.3216 - acc: 0.8599 - val_loss: 0.4944 - val_acc: 0.7906\n",
      "Epoch 9/20\n",
      "19956/19956 [==============================] - 4s 177us/step - loss: 0.3107 - acc: 0.8630 - val_loss: 0.4860 - val_acc: 0.7976\n",
      "Epoch 10/20\n",
      "19956/19956 [==============================] - 3s 173us/step - loss: 0.2931 - acc: 0.8716 - val_loss: 0.5218 - val_acc: 0.7814\n",
      "Epoch 11/20\n",
      "19956/19956 [==============================] - 3s 174us/step - loss: 0.2674 - acc: 0.8842 - val_loss: 0.5907 - val_acc: 0.7683\n",
      "Epoch 12/20\n",
      "19956/19956 [==============================] - 3s 174us/step - loss: 0.2590 - acc: 0.8884 - val_loss: 0.5471 - val_acc: 0.7922\n",
      "Epoch 13/20\n",
      "19956/19956 [==============================] - 3s 174us/step - loss: 0.2403 - acc: 0.8981 - val_loss: 0.5832 - val_acc: 0.7820\n",
      "Epoch 14/20\n",
      "19956/19956 [==============================] - 3s 173us/step - loss: 0.2275 - acc: 0.9039 - val_loss: 0.6093 - val_acc: 0.7886\n",
      "Epoch 15/20\n",
      "19956/19956 [==============================] - 3s 175us/step - loss: 0.2132 - acc: 0.9098 - val_loss: 0.6676 - val_acc: 0.7834\n",
      "Epoch 16/20\n",
      "19956/19956 [==============================] - 3s 175us/step - loss: 0.2005 - acc: 0.9157 - val_loss: 0.6638 - val_acc: 0.7709\n",
      "Epoch 17/20\n",
      "19956/19956 [==============================] - 4s 178us/step - loss: 0.1920 - acc: 0.9205 - val_loss: 0.6591 - val_acc: 0.7856\n",
      "Epoch 18/20\n",
      "19956/19956 [==============================] - 4s 177us/step - loss: 0.1740 - acc: 0.9264 - val_loss: 0.7151 - val_acc: 0.7924\n",
      "Epoch 19/20\n",
      "19956/19956 [==============================] - 4s 186us/step - loss: 0.1666 - acc: 0.9310 - val_loss: 0.6944 - val_acc: 0.7842\n",
      "Epoch 20/20\n",
      "19956/19956 [==============================] - 4s 184us/step - loss: 0.1556 - acc: 0.9378 - val_loss: 0.7730 - val_acc: 0.7822\n",
      "CPU times: user 1min 12s, sys: 8.24 s, total: 1min 20s\n",
      "Wall time: 1min 9s\n"
     ]
    },
    {
     "data": {
      "text/plain": [
       "<tensorflow.python.keras.callbacks.History at 0x7f3e9da685f8>"
      ]
     },
     "execution_count": 10,
     "metadata": {},
     "output_type": "execute_result"
    }
   ],
   "source": [
    "%%time\n",
    "\n",
    "# fitting the model\n",
    "model.fit(x=X, y=y, batch_size=32, epochs=20, validation_split=0.2)"
   ]
  }
 ],
 "metadata": {
  "kernelspec": {
   "display_name": "Python 3",
   "language": "python",
   "name": "python3"
  },
  "language_info": {
   "codemirror_mode": {
    "name": "ipython",
    "version": 3
   },
   "file_extension": ".py",
   "mimetype": "text/x-python",
   "name": "python",
   "nbconvert_exporter": "python",
   "pygments_lexer": "ipython3",
   "version": "3.5.0"
  }
 },
 "nbformat": 4,
 "nbformat_minor": 2
}
