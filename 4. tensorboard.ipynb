{
 "cells": [
  {
   "cell_type": "code",
   "execution_count": 1,
   "metadata": {},
   "outputs": [],
   "source": [
    "import os\n",
    "import time\n",
    "import pickle\n",
    "\n",
    "import tensorflow as tf\n",
    "from tensorflow.keras.models import Sequential\n",
    "from tensorflow.keras.layers import Dense, Dropout, Activation, Flatten, Conv2D, MaxPooling2D\n",
    "from tensorflow.keras.callbacks import TensorBoard"
   ]
  },
  {
   "cell_type": "code",
   "execution_count": 2,
   "metadata": {},
   "outputs": [],
   "source": [
    "# define variables\n",
    "home = os.getenv('HOME')\n",
    "datadir = os.path.join(home, 'Pictures', 'kagglecatsanddogs_3367a', 'PetImages')\n",
    "\n",
    "# tensorflow variables\n",
    "name = 'cats-vs-dog-cnn-64x2-{}'.format(int(time.time()))\n",
    "tensorboard = TensorBoard(log_dir='logs/{}'.format(name))\n",
    "gpu_options = tf.GPUOptions(per_process_gpu_memory_fraction=0.33)\n",
    "sess = tf.Session(config=tf.ConfigProto(gpu_options=gpu_options))"
   ]
  },
  {
   "cell_type": "code",
   "execution_count": 3,
   "metadata": {},
   "outputs": [],
   "source": [
    "# load data\n",
    "with open(os.path.join(datadir, 'X.pkl'), 'rb') as file:\n",
    "    X = pickle.load(file)\n",
    "    \n",
    "with open(os.path.join(datadir, 'y.pkl'), 'rb') as file:\n",
    "    y = pickle.load(file)"
   ]
  },
  {
   "cell_type": "code",
   "execution_count": 4,
   "metadata": {},
   "outputs": [],
   "source": [
    "# normalize the data\n",
    "X = X/255"
   ]
  },
  {
   "cell_type": "code",
   "execution_count": 5,
   "metadata": {},
   "outputs": [
    {
     "data": {
      "text/plain": [
       "(24946, 50, 50, 1)"
      ]
     },
     "execution_count": 5,
     "metadata": {},
     "output_type": "execute_result"
    }
   ],
   "source": [
    "X.shape"
   ]
  },
  {
   "cell_type": "code",
   "execution_count": 6,
   "metadata": {},
   "outputs": [],
   "source": [
    "# declaring a model\n",
    "model = Sequential()\n",
    "\n",
    "# convolution layer with 64 neuros\n",
    "model.add(Conv2D(filters=(64), kernel_size=(3, 3), input_shape=X.shape[1:]))\n",
    "model.add(Activation('relu'))\n",
    "model.add(MaxPooling2D(pool_size=(2, 2)))\n",
    "\n",
    "# convolution layer with 64 neurons\n",
    "model.add(Conv2D(filters=(64), kernel_size=(3, 3)))\n",
    "model.add(Activation('relu'))\n",
    "model.add(MaxPooling2D(pool_size=(2, 2)))\n",
    "\n",
    "# dense layer with 64 neurons\n",
    "model.add(Flatten())\n",
    "# model.add(Dense(units=64))\n",
    "# model.add(Activation('relu'))\n",
    "\n",
    "# output layer with sigmoid activation\n",
    "model.add(Dense(units=1, activation='sigmoid'))"
   ]
  },
  {
   "cell_type": "code",
   "execution_count": 7,
   "metadata": {},
   "outputs": [],
   "source": [
    "# compiling the model\n",
    "model.compile(optimizer='adam', loss='binary_crossentropy', metrics=['accuracy'])"
   ]
  },
  {
   "cell_type": "code",
   "execution_count": 8,
   "metadata": {},
   "outputs": [
    {
     "name": "stdout",
     "output_type": "stream",
     "text": [
      "Train on 19956 samples, validate on 4990 samples\n",
      "Epoch 1/20\n",
      "19956/19956 [==============================] - 4s 219us/step - loss: 0.6423 - acc: 0.6210 - val_loss: 0.5826 - val_acc: 0.6982\n",
      "Epoch 2/20\n",
      "19956/19956 [==============================] - 3s 164us/step - loss: 0.5442 - acc: 0.7285 - val_loss: 0.5285 - val_acc: 0.7421\n",
      "Epoch 3/20\n",
      "19956/19956 [==============================] - 3s 161us/step - loss: 0.4956 - acc: 0.7637 - val_loss: 0.5122 - val_acc: 0.7535\n",
      "Epoch 4/20\n",
      "19956/19956 [==============================] - 3s 160us/step - loss: 0.4718 - acc: 0.7774 - val_loss: 0.4886 - val_acc: 0.7655\n",
      "Epoch 5/20\n",
      "19956/19956 [==============================] - 3s 162us/step - loss: 0.4570 - acc: 0.7867 - val_loss: 0.4742 - val_acc: 0.7772\n",
      "Epoch 6/20\n",
      "19956/19956 [==============================] - 3s 160us/step - loss: 0.4415 - acc: 0.7946 - val_loss: 0.4733 - val_acc: 0.7762\n",
      "Epoch 7/20\n",
      "19956/19956 [==============================] - 3s 159us/step - loss: 0.4285 - acc: 0.8033 - val_loss: 0.4628 - val_acc: 0.7874\n",
      "Epoch 8/20\n",
      "19956/19956 [==============================] - 3s 157us/step - loss: 0.4080 - acc: 0.8142 - val_loss: 0.4573 - val_acc: 0.7868\n",
      "Epoch 9/20\n",
      "19956/19956 [==============================] - 3s 160us/step - loss: 0.3995 - acc: 0.8195 - val_loss: 0.4548 - val_acc: 0.7900\n",
      "Epoch 10/20\n",
      "19956/19956 [==============================] - 3s 161us/step - loss: 0.3851 - acc: 0.8259 - val_loss: 0.4729 - val_acc: 0.7874\n",
      "Epoch 11/20\n",
      "19956/19956 [==============================] - 3s 164us/step - loss: 0.3707 - acc: 0.8358 - val_loss: 0.4491 - val_acc: 0.7970\n",
      "Epoch 12/20\n",
      "19956/19956 [==============================] - 3s 168us/step - loss: 0.3627 - acc: 0.8385 - val_loss: 0.4424 - val_acc: 0.8006\n",
      "Epoch 13/20\n",
      "19956/19956 [==============================] - 3s 161us/step - loss: 0.3502 - acc: 0.8443 - val_loss: 0.4621 - val_acc: 0.7970\n",
      "Epoch 14/20\n",
      "19956/19956 [==============================] - 3s 160us/step - loss: 0.3404 - acc: 0.8507 - val_loss: 0.4515 - val_acc: 0.8034\n",
      "Epoch 15/20\n",
      "19956/19956 [==============================] - 3s 162us/step - loss: 0.3306 - acc: 0.8548 - val_loss: 0.4577 - val_acc: 0.7978\n",
      "Epoch 16/20\n",
      "19956/19956 [==============================] - 3s 160us/step - loss: 0.3219 - acc: 0.8590 - val_loss: 0.4756 - val_acc: 0.7894\n",
      "Epoch 17/20\n",
      "19956/19956 [==============================] - 3s 160us/step - loss: 0.3125 - acc: 0.8644 - val_loss: 0.4539 - val_acc: 0.8052\n",
      "Epoch 18/20\n",
      "19956/19956 [==============================] - 3s 162us/step - loss: 0.3097 - acc: 0.8663 - val_loss: 0.4819 - val_acc: 0.7872\n",
      "Epoch 19/20\n",
      "19956/19956 [==============================] - 3s 171us/step - loss: 0.2977 - acc: 0.8702 - val_loss: 0.4809 - val_acc: 0.8000\n",
      "Epoch 20/20\n",
      "19956/19956 [==============================] - 3s 163us/step - loss: 0.2930 - acc: 0.8730 - val_loss: 0.5126 - val_acc: 0.7848\n",
      "CPU times: user 1min 9s, sys: 7.73 s, total: 1min 17s\n",
      "Wall time: 1min 6s\n"
     ]
    },
    {
     "data": {
      "text/plain": [
       "<tensorflow.python.keras.callbacks.History at 0x7f4778376b38>"
      ]
     },
     "execution_count": 8,
     "metadata": {},
     "output_type": "execute_result"
    }
   ],
   "source": [
    "%%time\n",
    "\n",
    "# fitting the model\n",
    "model.fit(x=X, y=y, batch_size=32, epochs=20, validation_split=0.2, callbacks=[tensorboard])"
   ]
  },
  {
   "cell_type": "code",
   "execution_count": 9,
   "metadata": {},
   "outputs": [],
   "source": [
    "# !tensorboard --logdir='logs/'"
   ]
  }
 ],
 "metadata": {
  "kernelspec": {
   "display_name": "Python 3",
   "language": "python",
   "name": "python3"
  },
  "language_info": {
   "codemirror_mode": {
    "name": "ipython",
    "version": 3
   },
   "file_extension": ".py",
   "mimetype": "text/x-python",
   "name": "python",
   "nbconvert_exporter": "python",
   "pygments_lexer": "ipython3",
   "version": "3.5.0"
  }
 },
 "nbformat": 4,
 "nbformat_minor": 2
}
