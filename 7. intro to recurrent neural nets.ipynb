{
 "cells": [
  {
   "cell_type": "code",
   "execution_count": 1,
   "metadata": {},
   "outputs": [],
   "source": [
    "import tensorflow as tf\n",
    "from tensorflow.keras.models import Sequential\n",
    "from tensorflow.keras.layers import Dense, Dropout, CuDNNLSTM, LSTM"
   ]
  },
  {
   "cell_type": "code",
   "execution_count": 2,
   "metadata": {},
   "outputs": [],
   "source": [
    "mnist = tf.keras.datasets.mnist\n",
    "(X_train, y_train), (X_test, y_test) = mnist.load_data()"
   ]
  },
  {
   "cell_type": "code",
   "execution_count": 3,
   "metadata": {},
   "outputs": [],
   "source": [
    "X_train = X_train/255\n",
    "X_test = X_test/255"
   ]
  },
  {
   "cell_type": "code",
   "execution_count": 4,
   "metadata": {},
   "outputs": [],
   "source": [
    "# standard LSTM\n",
    "model = Sequential()\n",
    "model.add(LSTM(units=128, input_shape=(X_train.shape[1:]), activation='relu', return_sequences=True))\n",
    "model.add(Dropout(0.2))\n",
    "\n",
    "model.add(LSTM(units=128, activation='relu'))\n",
    "model.add(Dropout(0.2))\n",
    "\n",
    "model.add(Dense(units=32, activation='relu'))\n",
    "model.add(Dropout(0.2))\n",
    "\n",
    "model.add(Dense(units=10, activation='softmax'))\n",
    "\n",
    "opt = tf.keras.optimizers.Adam(lr=1e-3, decay=1e-5)\n",
    "\n",
    "model.compile(loss='sparse_categorical_crossentropy', optimizer=opt, metrics=['accuracy'])"
   ]
  },
  {
   "cell_type": "code",
   "execution_count": 5,
   "metadata": {},
   "outputs": [
    {
     "name": "stdout",
     "output_type": "stream",
     "text": [
      "Train on 60000 samples, validate on 10000 samples\n",
      "Epoch 1/3\n",
      "60000/60000 [==============================] - 61s 1ms/step - loss: 0.7888 - acc: 0.7331 - val_loss: 0.1519 - val_acc: 0.9553\n",
      "Epoch 2/3\n",
      "60000/60000 [==============================] - 57s 954us/step - loss: 0.1871 - acc: 0.9483 - val_loss: 0.1688 - val_acc: 0.9588\n",
      "Epoch 3/3\n",
      "60000/60000 [==============================] - 56s 928us/step - loss: 0.1261 - acc: 0.9660 - val_loss: 0.0838 - val_acc: 0.9753\n",
      "CPU times: user 5min 6s, sys: 18.1 s, total: 5min 24s\n",
      "Wall time: 2min 55s\n"
     ]
    },
    {
     "data": {
      "text/plain": [
       "<tensorflow.python.keras.callbacks.History at 0x7f9438d4d630>"
      ]
     },
     "execution_count": 5,
     "metadata": {},
     "output_type": "execute_result"
    }
   ],
   "source": [
    "%%time\n",
    "model.fit(X_train, y_train, batch_size=64, epochs=3, validation_data=(X_test, y_test))"
   ]
  },
  {
   "cell_type": "code",
   "execution_count": 6,
   "metadata": {},
   "outputs": [],
   "source": [
    "# cuDNN optmized LSTM\n",
    "# it doesn't take the activation parameter\n",
    "cudnn_model = Sequential()\n",
    "cudnn_model.add(CuDNNLSTM(units=128, input_shape=(X_train.shape[1:]), return_sequences=True))\n",
    "cudnn_model.add(Dropout(0.2))\n",
    "\n",
    "cudnn_model.add(CuDNNLSTM(units=128))\n",
    "cudnn_model.add(Dropout(0.2))\n",
    "\n",
    "cudnn_model.add(Dense(units=32, activation='relu'))\n",
    "cudnn_model.add(Dropout(0.2))\n",
    "\n",
    "cudnn_model.add(Dense(units=10, activation='softmax'))\n",
    "\n",
    "opt = tf.keras.optimizers.Adam(lr=1e-3, decay=1e-5)\n",
    "\n",
    "cudnn_model.compile(loss='sparse_categorical_crossentropy', optimizer=opt, metrics=['accuracy'])"
   ]
  },
  {
   "cell_type": "code",
   "execution_count": 7,
   "metadata": {},
   "outputs": [
    {
     "name": "stdout",
     "output_type": "stream",
     "text": [
      "Train on 60000 samples, validate on 10000 samples\n",
      "Epoch 1/3\n",
      "60000/60000 [==============================] - 6s 101us/step - loss: 0.4711 - acc: 0.8524 - val_loss: 0.1409 - val_acc: 0.9578\n",
      "Epoch 2/3\n",
      "60000/60000 [==============================] - 5s 80us/step - loss: 0.1340 - acc: 0.9648 - val_loss: 0.0906 - val_acc: 0.9746\n",
      "Epoch 3/3\n",
      "60000/60000 [==============================] - 5s 80us/step - loss: 0.0957 - acc: 0.9751 - val_loss: 0.0745 - val_acc: 0.9788\n",
      "CPU times: user 20.5 s, sys: 851 ms, total: 21.3 s\n",
      "Wall time: 16.4 s\n"
     ]
    },
    {
     "data": {
      "text/plain": [
       "<tensorflow.python.keras.callbacks.History at 0x7f941820eda0>"
      ]
     },
     "execution_count": 7,
     "metadata": {},
     "output_type": "execute_result"
    }
   ],
   "source": [
    "%%time\n",
    "cudnn_model.fit(X_train, y_train, batch_size=64, epochs=3, validation_data=(X_test, y_test))"
   ]
  }
 ],
 "metadata": {
  "kernelspec": {
   "display_name": "Python 3",
   "language": "python",
   "name": "python3"
  },
  "language_info": {
   "codemirror_mode": {
    "name": "ipython",
    "version": 3
   },
   "file_extension": ".py",
   "mimetype": "text/x-python",
   "name": "python",
   "nbconvert_exporter": "python",
   "pygments_lexer": "ipython3",
   "version": "3.5.0"
  }
 },
 "nbformat": 4,
 "nbformat_minor": 2
}
